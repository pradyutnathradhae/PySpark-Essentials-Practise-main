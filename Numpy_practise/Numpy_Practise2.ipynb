{
 "cells": [
  {
   "cell_type": "code",
   "execution_count": 1,
   "id": "374415e3",
   "metadata": {},
   "outputs": [],
   "source": [
    "#Universal Functions\n",
    "import numpy as np"
   ]
  },
  {
   "cell_type": "markdown",
   "id": "1e2977b3",
   "metadata": {},
   "source": [
    "### A universal function (or ufunc for short) is a function that operates on ndarrays in an element-by-element fashion, supporting array broadcasting, type casting, and several other standard features."
   ]
  },
  {
   "cell_type": "code",
   "execution_count": 2,
   "id": "1b547d86",
   "metadata": {},
   "outputs": [],
   "source": [
    "vec = np.arange(1,5)"
   ]
  },
  {
   "cell_type": "code",
   "execution_count": 3,
   "id": "c3a415ea",
   "metadata": {},
   "outputs": [
    {
     "data": {
      "text/plain": [
       "array([ 2.71828183,  7.3890561 , 20.08553692, 54.59815003])"
      ]
     },
     "execution_count": 3,
     "metadata": {},
     "output_type": "execute_result"
    }
   ],
   "source": [
    "np.exp(vec)"
   ]
  },
  {
   "cell_type": "code",
   "execution_count": 4,
   "id": "aaa5db34",
   "metadata": {},
   "outputs": [
    {
     "data": {
      "text/plain": [
       "array([ 3.14159265,  6.28318531,  9.42477796, 12.56637061])"
      ]
     },
     "execution_count": 4,
     "metadata": {},
     "output_type": "execute_result"
    }
   ],
   "source": [
    "vec*np.pi"
   ]
  },
  {
   "cell_type": "code",
   "execution_count": 5,
   "id": "da145d38",
   "metadata": {},
   "outputs": [
    {
     "data": {
      "text/plain": [
       "array([ 0.54030231, -0.41614684, -0.9899925 , -0.65364362])"
      ]
     },
     "execution_count": 5,
     "metadata": {},
     "output_type": "execute_result"
    }
   ],
   "source": [
    "np.cos(vec)"
   ]
  },
  {
   "cell_type": "code",
   "execution_count": 6,
   "id": "71862d82",
   "metadata": {},
   "outputs": [
    {
     "data": {
      "text/plain": [
       "array([-1.,  1., -1.,  1.])"
      ]
     },
     "execution_count": 6,
     "metadata": {},
     "output_type": "execute_result"
    }
   ],
   "source": [
    "np.cos(vec*np.pi)"
   ]
  },
  {
   "cell_type": "code",
   "execution_count": 7,
   "id": "8cbdd2d0",
   "metadata": {},
   "outputs": [
    {
     "data": {
      "text/plain": [
       "array([1.        , 1.69314718, 2.09861229, 2.38629436])"
      ]
     },
     "execution_count": 7,
     "metadata": {},
     "output_type": "execute_result"
    }
   ],
   "source": [
    "np.log(np.e*vec)"
   ]
  },
  {
   "cell_type": "code",
   "execution_count": 8,
   "id": "2dbfa45c",
   "metadata": {},
   "outputs": [
    {
     "data": {
      "text/plain": [
       "array([ 2.71828183,  7.3890561 , 20.08553692, 54.59815003])"
      ]
     },
     "execution_count": 8,
     "metadata": {},
     "output_type": "execute_result"
    }
   ],
   "source": [
    "np.exp(vec)"
   ]
  },
  {
   "cell_type": "markdown",
   "id": "575e7a43",
   "metadata": {},
   "source": [
    "# Randomness and Statistics\n"
   ]
  },
  {
   "cell_type": "code",
   "execution_count": 9,
   "id": "19ac751c",
   "metadata": {},
   "outputs": [],
   "source": [
    "import numpy as np"
   ]
  },
  {
   "cell_type": "code",
   "execution_count": 10,
   "id": "65af26d7",
   "metadata": {},
   "outputs": [],
   "source": [
    "rng = np.random.default_rng(42) #This is a generator object"
   ]
  },
  {
   "cell_type": "code",
   "execution_count": 11,
   "id": "c95e09dd",
   "metadata": {},
   "outputs": [
    {
     "data": {
      "text/plain": [
       "array([0, 7, 6, 4, 4, 8, 0, 6, 2, 0], dtype=int64)"
      ]
     },
     "execution_count": 11,
     "metadata": {},
     "output_type": "execute_result"
    }
   ],
   "source": [
    "rng.integers(0,10,size=10)"
   ]
  },
  {
   "cell_type": "code",
   "execution_count": 12,
   "id": "d30ce84d",
   "metadata": {},
   "outputs": [
    {
     "data": {
      "text/plain": [
       "array([ 5, 10,  8,  8,  7,  8,  5,  1,  9,  4], dtype=int64)"
      ]
     },
     "execution_count": 12,
     "metadata": {},
     "output_type": "execute_result"
    }
   ],
   "source": [
    "rng.integers(0,10,size=10,endpoint=True) #to include end value in randoms"
   ]
  },
  {
   "cell_type": "code",
   "execution_count": 13,
   "id": "a0e807fc",
   "metadata": {},
   "outputs": [
    {
     "data": {
      "text/plain": [
       "array([1, 0, 0, 1, 1, 1, 0, 1, 1, 0, 0, 0, 0, 1, 1, 0, 1, 1, 0, 1, 0, 1,\n",
       "       1, 0, 0, 1, 0, 1, 1, 1, 1, 0, 0, 0, 0, 0, 1, 0, 1, 1, 1, 1, 0, 1,\n",
       "       0, 0, 1, 0, 0, 0, 1, 0, 0, 0, 1, 0, 0, 0, 1, 1, 1, 0, 0, 1],\n",
       "      dtype=int64)"
      ]
     },
     "execution_count": 13,
     "metadata": {},
     "output_type": "execute_result"
    }
   ],
   "source": [
    "#Random bits\n",
    "rng.integers(2,size=64)"
   ]
  },
  {
   "cell_type": "code",
   "execution_count": 14,
   "id": "f8634a33",
   "metadata": {},
   "outputs": [],
   "source": [
    "#Random,Shuffle and choice\n",
    "unif_float = rng.random(50)"
   ]
  },
  {
   "cell_type": "code",
   "execution_count": 15,
   "id": "e755d14c",
   "metadata": {},
   "outputs": [
    {
     "name": "stdout",
     "output_type": "stream",
     "text": [
      "[0.7002651  0.31236664 0.8322598  0.80476436 0.38747838 0.2883281\n",
      " 0.6824955  0.13975248 0.1999082  0.00736227 0.78692438 0.66485086\n",
      " 0.70516538 0.78072903 0.45891578 0.5687412  0.139797   0.11453007\n",
      " 0.66840296 0.47109621 0.56523611 0.76499886 0.63471832 0.5535794\n",
      " 0.55920716 0.3039501  0.03081783 0.43671739 0.21458467 0.40852864\n",
      " 0.85340307 0.23393949 0.05830274 0.28138389 0.29359376 0.66191651\n",
      " 0.55703215 0.78389821 0.66431354 0.40638686 0.81402038 0.16697292\n",
      " 0.02271207 0.09004786 0.72235935 0.46187723 0.16127178 0.50104478\n",
      " 0.1523121  0.69632038]\n"
     ]
    }
   ],
   "source": [
    "print(unif_float)"
   ]
  },
  {
   "cell_type": "code",
   "execution_count": 16,
   "id": "fae81221",
   "metadata": {},
   "outputs": [],
   "source": [
    "import matplotlib.pyplot as plt"
   ]
  },
  {
   "cell_type": "code",
   "execution_count": 17,
   "id": "0789cf37",
   "metadata": {},
   "outputs": [
    {
     "data": {
      "image/png": "[encoded data removed]",
      "text/plain": [
       "<Figure size 432x288 with 1 Axes>"
      ]
     },
     "metadata": {
      "needs_background": "light"
     },
     "output_type": "display_data"
    }
   ],
   "source": [
    "x = rng.random(300)\n",
    "y = rng.random(300)\n",
    "plt.scatter(x,y)\n",
    "plt.show()"
   ]
  },
  {
   "cell_type": "code",
   "execution_count": 18,
   "id": "6eedcbc4",
   "metadata": {},
   "outputs": [
    {
     "name": "stdout",
     "output_type": "stream",
     "text": [
      "[4 9 8 1 2]\n"
     ]
    }
   ],
   "source": [
    "array = np.array([4,8,9,1,2])\n",
    "rng.shuffle(array)\n",
    "print(array)"
   ]
  },
  {
   "cell_type": "code",
   "execution_count": 19,
   "id": "345cf982",
   "metadata": {},
   "outputs": [],
   "source": [
    "three = rng.choice(array,size=3) #With Replacement"
   ]
  },
  {
   "cell_type": "code",
   "execution_count": 20,
   "id": "cd8d5f9d",
   "metadata": {},
   "outputs": [
    {
     "name": "stdout",
     "output_type": "stream",
     "text": [
      "[9 8 2]\n"
     ]
    }
   ],
   "source": [
    "print(three)"
   ]
  },
  {
   "cell_type": "code",
   "execution_count": 21,
   "id": "952579f2",
   "metadata": {},
   "outputs": [
    {
     "name": "stdout",
     "output_type": "stream",
     "text": [
      "[8 2 4]\n"
     ]
    }
   ],
   "source": [
    "three = rng.choice(array,size=3,replace=False) #With Replacement\n",
    "print(three)"
   ]
  },
  {
   "cell_type": "code",
   "execution_count": 22,
   "id": "24b30d37",
   "metadata": {},
   "outputs": [],
   "source": [
    "#Normal Distribution\n",
    "hts = rng.normal(1.75,.15,100)"
   ]
  },
  {
   "cell_type": "code",
   "execution_count": 23,
   "id": "987bf27b",
   "metadata": {},
   "outputs": [
    {
     "name": "stdout",
     "output_type": "stream",
     "text": [
      "[1.64291878 1.55247547 1.87537118 1.80240259 2.10739034 1.81302829\n",
      " 1.80815547 1.72496081 1.87251638 1.84376278 1.93775875 1.67180156\n",
      " 1.68468888 1.67813452 1.86862026 1.97475617 1.68117393 1.68628394\n",
      " 1.79711158 1.71313577 1.89280805 1.41223341 1.62599424 1.63263755\n",
      " 1.4019466  1.60545423 1.61272658 1.7198343  1.91694488 1.7132409\n",
      " 1.59537794 1.74145682 1.90737604 1.60360618 1.61341377 1.83378234\n",
      " 1.71676958 1.8471227  1.74795298 1.85524955 1.59473828 1.7481873\n",
      " 1.7183965  1.56761636 1.51547831 1.85286236 1.69735714 1.59665796\n",
      " 1.73557316 1.91920283 1.40788932 1.5255042  1.61156703 1.96917683\n",
      " 1.79238805 1.86509759 1.57897586 1.58206962 1.81717206 1.75874115\n",
      " 1.83231082 1.72184935 1.79172156 1.77371786 1.86666511 1.87105124\n",
      " 1.5070192  1.41290972 1.90026181 1.92815876 1.59690655 1.47102469\n",
      " 1.76485522 1.88962573 2.01963918 1.82744464 1.6942425  1.61603041\n",
      " 1.75171769 1.70511029 1.59773981 2.05731335 2.01777526 1.9204073\n",
      " 1.61187244 1.8782529  1.84594396 1.81638184 1.93744979 1.84530567\n",
      " 1.86100214 1.84553594 1.80111871 1.48245833 1.76254316 1.66657121\n",
      " 1.55802386 2.00227249 2.0093493  1.95388309]\n"
     ]
    }
   ],
   "source": [
    "print(hts)"
   ]
  },
  {
   "cell_type": "code",
   "execution_count": 24,
   "id": "98bf5e3b",
   "metadata": {},
   "outputs": [
    {
     "data": {
      "text/plain": [
       "(array([ 4.,  1.,  2.,  2.,  3., 13.,  4.,  4.,  9.,  8.,  4.,  9., 10.,\n",
       "        10.,  6.,  3.,  2.,  4.,  1.,  1.]),\n",
       " array([1.4019466 , 1.43721879, 1.47249097, 1.50776316, 1.54303535,\n",
       "        1.57830753, 1.61357972, 1.64885191, 1.6841241 , 1.71939628,\n",
       "        1.75466847, 1.78994066, 1.82521284, 1.86048503, 1.89575722,\n",
       "        1.93102941, 1.96630159, 2.00157378, 2.03684597, 2.07211816,\n",
       "        2.10739034]),\n",
       " <BarContainer object of 20 artists>)"
      ]
     },
     "execution_count": 24,
     "metadata": {},
     "output_type": "execute_result"
    },
    {
     "data": {
      "image/png": "[encoded data removed]",
      "text/plain": [
       "<Figure size 432x288 with 1 Axes>"
      ]
     },
     "metadata": {
      "needs_background": "light"
     },
     "output_type": "display_data"
    }
   ],
   "source": [
    "#Drawing Histogram\n",
    "plt.hist(hts,bins=20) "
   ]
  },
  {
   "cell_type": "code",
   "execution_count": 25,
   "id": "77bf4d8e",
   "metadata": {},
   "outputs": [
    {
     "data": {
      "text/plain": [
       "(array([4., 0., 0., 1., 1., 1., 1., 1., 2., 1., 4., 9., 2., 2., 0., 4., 4.,\n",
       "        5., 4., 4., 3., 1., 5., 4., 3., 7., 7., 3., 2., 4., 2., 1., 2., 0.,\n",
       "        3., 1., 0., 1., 0., 1.]),\n",
       " array([1.4019466 , 1.41958269, 1.43721879, 1.45485488, 1.47249097,\n",
       "        1.49012707, 1.50776316, 1.52539925, 1.54303535, 1.56067144,\n",
       "        1.57830753, 1.59594363, 1.61357972, 1.63121582, 1.64885191,\n",
       "        1.666488  , 1.6841241 , 1.70176019, 1.71939628, 1.73703238,\n",
       "        1.75466847, 1.77230456, 1.78994066, 1.80757675, 1.82521284,\n",
       "        1.84284894, 1.86048503, 1.87812113, 1.89575722, 1.91339331,\n",
       "        1.93102941, 1.9486655 , 1.96630159, 1.98393769, 2.00157378,\n",
       "        2.01920987, 2.03684597, 2.05448206, 2.07211816, 2.08975425,\n",
       "        2.10739034]),\n",
       " <BarContainer object of 40 artists>)"
      ]
     },
     "execution_count": 25,
     "metadata": {},
     "output_type": "execute_result"
    },
    {
     "data": {
      "image/png": "[encoded data removed]",
      "text/plain": [
       "<Figure size 432x288 with 1 Axes>"
      ]
     },
     "metadata": {
      "needs_background": "light"
     },
     "output_type": "display_data"
    }
   ],
   "source": [
    "plt.hist(hts,bins=40) #Bins -> No of equal width verticals in fig"
   ]
  },
  {
   "attachments": {},
   "cell_type": "markdown",
   "id": "b2d35009",
   "metadata": {},
   "source": [
    "## Basic Statistics"
   ]
  },
  {
   "cell_type": "code",
   "execution_count": 26,
   "id": "fb63072d",
   "metadata": {},
   "outputs": [
    {
     "name": "stdout",
     "output_type": "stream",
     "text": [
      "12.0\n"
     ]
    }
   ],
   "source": [
    "arr = np.array([4,8,9,3,2,46])\n",
    "print(np.mean(arr))"
   ]
  },
  {
   "cell_type": "code",
   "execution_count": 27,
   "id": "c3a09a3c",
   "metadata": {},
   "outputs": [
    {
     "name": "stdout",
     "output_type": "stream",
     "text": [
      "15.416441439796236\n"
     ]
    }
   ],
   "source": [
    "print(np.std(arr))"
   ]
  },
  {
   "cell_type": "code",
   "execution_count": 28,
   "id": "51c47063",
   "metadata": {},
   "outputs": [
    {
     "name": "stdout",
     "output_type": "stream",
     "text": [
      "237.66666666666666\n"
     ]
    }
   ],
   "source": [
    "print(np.var(arr)) #Variance"
   ]
  },
  {
   "cell_type": "code",
   "execution_count": 29,
   "id": "7a2a3cca",
   "metadata": {},
   "outputs": [
    {
     "name": "stdout",
     "output_type": "stream",
     "text": [
      "6.0\n"
     ]
    }
   ],
   "source": [
    "print(np.median(arr))"
   ]
  },
  {
   "cell_type": "code",
   "execution_count": 30,
   "id": "fd7e39bc",
   "metadata": {},
   "outputs": [
    {
     "name": "stdout",
     "output_type": "stream",
     "text": [
      "[4 7 8 9]\n"
     ]
    }
   ],
   "source": [
    "arr = np.array([4,4,9,8,7,7])\n",
    "print(np.unique(arr))"
   ]
  },
  {
   "cell_type": "code",
   "execution_count": 34,
   "id": "3da4ed51",
   "metadata": {},
   "outputs": [
    {
     "data": {
      "image/png": "[encoded data removed]",
      "text/plain": [
       "<Figure size 432x288 with 1 Axes>"
      ]
     },
     "metadata": {
      "needs_background": "light"
     },
     "output_type": "display_data"
    }
   ],
   "source": [
    "x,y = np.unique(arr,return_counts=True)\n",
    "plt.bar(x,y)\n",
    "plt.show()"
   ]
  },
  {
   "cell_type": "code",
   "execution_count": null,
   "id": "cde60787",
   "metadata": {},
   "outputs": [],
   "source": []
  }
 ],
 "metadata": {
  "kernelspec": {
   "display_name": "Python 3",
   "language": "python",
   "name": "python3"
  },
  "language_info": {
   "codemirror_mode": {
    "name": "ipython",
    "version": 3
   },
   "file_extension": ".py",
   "mimetype": "text/x-python",
   "name": "python",
   "nbconvert_exporter": "python",
   "pygments_lexer": "ipython3",
   "version": "3.7.0"
  },
  "vscode": {
   "interpreter": {
    "hash": "e06366c99c5d9f2d411cf94f558d4cf193b119b457f022b614584b3a78f0ae37"
   }
  }
 },
 "nbformat": 4,
 "nbformat_minor": 5
}
