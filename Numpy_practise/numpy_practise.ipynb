{
  "nbformat": 4,
  "nbformat_minor": 0,
  "metadata": {
    "colab": {
      "provenance": []
    },
    "kernelspec": {
      "name": "python3",
      "display_name": "Python 3"
    },
    "language_info": {
      "name": "python"
    }
  },
  "cells": [
    {
      "cell_type": "code",
      "execution_count": null,
      "metadata": {
        "id": "Q6yNZsQh0VLZ"
      },
      "outputs": [],
      "source": [
        "import numpy as np\n"
      ]
    },
    {
      "cell_type": "code",
      "source": [
        "arr = np.arange(100000) #Creating vectors with a seq"
      ],
      "metadata": {
        "id": "xPPeC0VwpXw8"
      },
      "execution_count": null,
      "outputs": []
    },
    {
      "cell_type": "code",
      "source": [
        "%%time\n",
        "arr1 = 3*arr"
      ],
      "metadata": {
        "colab": {
          "base_uri": "https://localhost:8080/"
        },
        "id": "EqwtqHmRqXQN",
        "outputId": "d21dba7d-c905-4799-a716-73e7f2037b3f"
      },
      "execution_count": null,
      "outputs": [
        {
          "output_type": "stream",
          "name": "stdout",
          "text": [
            "CPU times: user 460 µs, sys: 1.08 ms, total: 1.54 ms\n",
            "Wall time: 3.48 ms\n"
          ]
        }
      ]
    },
    {
      "cell_type": "code",
      "source": [
        "lst = list(range(1000))\n",
        "arr = np.array(lst)"
      ],
      "metadata": {
        "id": "2kg9UDDLuKrY"
      },
      "execution_count": null,
      "outputs": []
    },
    {
      "cell_type": "code",
      "source": [
        "print(arr)"
      ],
      "metadata": {
        "colab": {
          "base_uri": "https://localhost:8080/"
        },
        "id": "xcmfJoVbuWNJ",
        "outputId": "54744eaf-8d2a-435b-d874-a1a5ef648abf"
      },
      "execution_count": null,
      "outputs": [
        {
          "output_type": "stream",
          "name": "stdout",
          "text": [
            "[  0   1   2   3   4   5   6   7   8   9  10  11  12  13  14  15  16  17\n",
            "  18  19  20  21  22  23  24  25  26  27  28  29  30  31  32  33  34  35\n",
            "  36  37  38  39  40  41  42  43  44  45  46  47  48  49  50  51  52  53\n",
            "  54  55  56  57  58  59  60  61  62  63  64  65  66  67  68  69  70  71\n",
            "  72  73  74  75  76  77  78  79  80  81  82  83  84  85  86  87  88  89\n",
            "  90  91  92  93  94  95  96  97  98  99 100 101 102 103 104 105 106 107\n",
            " 108 109 110 111 112 113 114 115 116 117 118 119 120 121 122 123 124 125\n",
            " 126 127 128 129 130 131 132 133 134 135 136 137 138 139 140 141 142 143\n",
            " 144 145 146 147 148 149 150 151 152 153 154 155 156 157 158 159 160 161\n",
            " 162 163 164 165 166 167 168 169 170 171 172 173 174 175 176 177 178 179\n",
            " 180 181 182 183 184 185 186 187 188 189 190 191 192 193 194 195 196 197\n",
            " 198 199 200 201 202 203 204 205 206 207 208 209 210 211 212 213 214 215\n",
            " 216 217 218 219 220 221 222 223 224 225 226 227 228 229 230 231 232 233\n",
            " 234 235 236 237 238 239 240 241 242 243 244 245 246 247 248 249 250 251\n",
            " 252 253 254 255 256 257 258 259 260 261 262 263 264 265 266 267 268 269\n",
            " 270 271 272 273 274 275 276 277 278 279 280 281 282 283 284 285 286 287\n",
            " 288 289 290 291 292 293 294 295 296 297 298 299 300 301 302 303 304 305\n",
            " 306 307 308 309 310 311 312 313 314 315 316 317 318 319 320 321 322 323\n",
            " 324 325 326 327 328 329 330 331 332 333 334 335 336 337 338 339 340 341\n",
            " 342 343 344 345 346 347 348 349 350 351 352 353 354 355 356 357 358 359\n",
            " 360 361 362 363 364 365 366 367 368 369 370 371 372 373 374 375 376 377\n",
            " 378 379 380 381 382 383 384 385 386 387 388 389 390 391 392 393 394 395\n",
            " 396 397 398 399 400 401 402 403 404 405 406 407 408 409 410 411 412 413\n",
            " 414 415 416 417 418 419 420 421 422 423 424 425 426 427 428 429 430 431\n",
            " 432 433 434 435 436 437 438 439 440 441 442 443 444 445 446 447 448 449\n",
            " 450 451 452 453 454 455 456 457 458 459 460 461 462 463 464 465 466 467\n",
            " 468 469 470 471 472 473 474 475 476 477 478 479 480 481 482 483 484 485\n",
            " 486 487 488 489 490 491 492 493 494 495 496 497 498 499 500 501 502 503\n",
            " 504 505 506 507 508 509 510 511 512 513 514 515 516 517 518 519 520 521\n",
            " 522 523 524 525 526 527 528 529 530 531 532 533 534 535 536 537 538 539\n",
            " 540 541 542 543 544 545 546 547 548 549 550 551 552 553 554 555 556 557\n",
            " 558 559 560 561 562 563 564 565 566 567 568 569 570 571 572 573 574 575\n",
            " 576 577 578 579 580 581 582 583 584 585 586 587 588 589 590 591 592 593\n",
            " 594 595 596 597 598 599 600 601 602 603 604 605 606 607 608 609 610 611\n",
            " 612 613 614 615 616 617 618 619 620 621 622 623 624 625 626 627 628 629\n",
            " 630 631 632 633 634 635 636 637 638 639 640 641 642 643 644 645 646 647\n",
            " 648 649 650 651 652 653 654 655 656 657 658 659 660 661 662 663 664 665\n",
            " 666 667 668 669 670 671 672 673 674 675 676 677 678 679 680 681 682 683\n",
            " 684 685 686 687 688 689 690 691 692 693 694 695 696 697 698 699 700 701\n",
            " 702 703 704 705 706 707 708 709 710 711 712 713 714 715 716 717 718 719\n",
            " 720 721 722 723 724 725 726 727 728 729 730 731 732 733 734 735 736 737\n",
            " 738 739 740 741 742 743 744 745 746 747 748 749 750 751 752 753 754 755\n",
            " 756 757 758 759 760 761 762 763 764 765 766 767 768 769 770 771 772 773\n",
            " 774 775 776 777 778 779 780 781 782 783 784 785 786 787 788 789 790 791\n",
            " 792 793 794 795 796 797 798 799 800 801 802 803 804 805 806 807 808 809\n",
            " 810 811 812 813 814 815 816 817 818 819 820 821 822 823 824 825 826 827\n",
            " 828 829 830 831 832 833 834 835 836 837 838 839 840 841 842 843 844 845\n",
            " 846 847 848 849 850 851 852 853 854 855 856 857 858 859 860 861 862 863\n",
            " 864 865 866 867 868 869 870 871 872 873 874 875 876 877 878 879 880 881\n",
            " 882 883 884 885 886 887 888 889 890 891 892 893 894 895 896 897 898 899\n",
            " 900 901 902 903 904 905 906 907 908 909 910 911 912 913 914 915 916 917\n",
            " 918 919 920 921 922 923 924 925 926 927 928 929 930 931 932 933 934 935\n",
            " 936 937 938 939 940 941 942 943 944 945 946 947 948 949 950 951 952 953\n",
            " 954 955 956 957 958 959 960 961 962 963 964 965 966 967 968 969 970 971\n",
            " 972 973 974 975 976 977 978 979 980 981 982 983 984 985 986 987 988 989\n",
            " 990 991 992 993 994 995 996 997 998 999]\n"
          ]
        }
      ]
    },
    {
      "cell_type": "code",
      "source": [
        "first = arr[0]\n",
        "last = arr[999]\n",
        "print(first,last)"
      ],
      "metadata": {
        "colab": {
          "base_uri": "https://localhost:8080/"
        },
        "id": "VtEhdLcguX4Y",
        "outputId": "8a2cda0c-31c3-40ec-f199-5201d30f6ad2"
      },
      "execution_count": null,
      "outputs": [
        {
          "output_type": "stream",
          "name": "stdout",
          "text": [
            "0 999\n"
          ]
        }
      ]
    },
    {
      "cell_type": "code",
      "source": [
        "arr[999] = 1000\n",
        "first = arr[0]\n",
        "last = arr[999]\n",
        "print(first,last,arr[-1])"
      ],
      "metadata": {
        "colab": {
          "base_uri": "https://localhost:8080/"
        },
        "id": "J0nZ6AWCujSY",
        "outputId": "73b070ab-ba14-4994-d2fa-ca53ed25927c"
      },
      "execution_count": null,
      "outputs": [
        {
          "output_type": "stream",
          "name": "stdout",
          "text": [
            "0 1000 1000\n"
          ]
        }
      ]
    },
    {
      "cell_type": "code",
      "source": [
        "print(np.arange(17,23,0.5))"
      ],
      "metadata": {
        "id": "KfKguQQhvVvA",
        "colab": {
          "base_uri": "https://localhost:8080/"
        },
        "outputId": "abc5b2de-a027-4fb5-dc55-d44a06a8d64a"
      },
      "execution_count": null,
      "outputs": [
        {
          "output_type": "stream",
          "name": "stdout",
          "text": [
            "[17.  17.5 18.  18.5 19.  19.5 20.  20.5 21.  21.5 22.  22.5]\n"
          ]
        }
      ]
    },
    {
      "cell_type": "code",
      "source": [
        "##Basic Operations\n",
        "arr1 = np.arange(1,6)\n",
        "arr2 = np.arange(6,11)\n",
        "print(arr1+arr2)\n",
        "list1 = [1,2]\n",
        "list2 = [3,4]\n",
        "print(list1+list2)\n",
        "print(arr1-arr2)\n",
        "print(arr1*arr2)\n",
        "print(np.around(arr1/arr2,2))\n",
        "print(arr1**arr2)"
      ],
      "metadata": {
        "id": "I0A4LpgFnVeX",
        "colab": {
          "base_uri": "https://localhost:8080/"
        },
        "outputId": "fb17e1a6-f221-4323-a9f2-11ecfdb24c91"
      },
      "execution_count": null,
      "outputs": [
        {
          "output_type": "stream",
          "name": "stdout",
          "text": [
            "[ 7  9 11 13 15]\n",
            "[1, 2, 3, 4]\n",
            "[-5 -5 -5 -5 -5]\n",
            "[ 6 14 24 36 50]\n",
            "[0.17 0.29 0.38 0.44 0.5 ]\n",
            "[      1     128    6561  262144 9765625]\n"
          ]
        }
      ]
    },
    {
      "cell_type": "code",
      "source": [
        "#Numpy Datatypes\n",
        "arr = np.arange(1,6)\n",
        "arr.dtype\n",
        "arr1 = np.array([1,2,3,9],dtype=np.int8)\n",
        "print(arr1.dtype)\n",
        "print(arr.size)\n",
        "print(arr.nbytes)\n",
        "print(arr1.nbytes)"
      ],
      "metadata": {
        "colab": {
          "base_uri": "https://localhost:8080/"
        },
        "id": "wrfluINUZclJ",
        "outputId": "f3dfecc7-0a79-4cf4-d509-6fb0dfa5e180"
      },
      "execution_count": null,
      "outputs": [
        {
          "output_type": "stream",
          "name": "stdout",
          "text": [
            "int8\n",
            "5\n",
            "40\n",
            "4\n"
          ]
        }
      ]
    },
    {
      "cell_type": "code",
      "source": [
        "##Slicing\n",
        "arr = np.arange(1,6)\n",
        "print(arr[3:])\n",
        "print(arr[:3])\n",
        "print(arr[2:4])\n",
        "print(arr[2:-2]) #Always end index as exclusive\n",
        "print(arr[1:5:2])#Third is for step value\n",
        "print(arr[::-1])#Reverse"
      ],
      "metadata": {
        "colab": {
          "base_uri": "https://localhost:8080/"
        },
        "id": "mlybI92WbY-z",
        "outputId": "850110d7-c10d-45c2-a52b-b49dfcaeec98"
      },
      "execution_count": null,
      "outputs": [
        {
          "output_type": "stream",
          "name": "stdout",
          "text": [
            "[4 5]\n",
            "[1 2 3]\n",
            "[3 4]\n",
            "[3]\n",
            "[2 4]\n",
            "[5 4 3 2 1]\n"
          ]
        }
      ]
    },
    {
      "cell_type": "code",
      "source": [
        "#Sorting\n",
        "arr = np.array([5,6,2,8,2])\n",
        "print(arr.sort())\n",
        "print(arr)\n",
        "arr = np.array([5,6,2,8,2])\n",
        "print(np.sort(arr))\n",
        "print(arr)\n",
        "print(np.sort(arr,kind='heapsort'))"
      ],
      "metadata": {
        "colab": {
          "base_uri": "https://localhost:8080/"
        },
        "id": "gBojfzR5c2NU",
        "outputId": "d1840c3c-bf39-4005-db02-7738a5969b66"
      },
      "execution_count": null,
      "outputs": [
        {
          "output_type": "stream",
          "name": "stdout",
          "text": [
            "None\n",
            "[2 2 5 6 8]\n",
            "[2 2 5 6 8]\n",
            "[5 6 2 8 2]\n",
            "[2 2 5 6 8]\n"
          ]
        }
      ]
    },
    {
      "cell_type": "code",
      "source": [
        "#Copy Vs Views\n",
        "#Some Operations/functions in numpy creates new array but some does inplace\n",
        "arr = np.arange(1,6)\n",
        "arr1 = arr[::-1]\n",
        "arr1[0]=200\n",
        "print(arr) # changes old array too - so Slicing don't create new array\n",
        "print(arr1)\n",
        "arr = np.arange(1,6)\n",
        "arr1 = np.abs(arr)\n",
        "arr1[0] = 200\n",
        "print(arr) #np.abs() Doesn't change old array\n",
        "print(arr1)"
      ],
      "metadata": {
        "colab": {
          "base_uri": "https://localhost:8080/"
        },
        "id": "c2SqDGbEg592",
        "outputId": "2b18806f-5ac9-4882-b45f-f917457d9eaa"
      },
      "execution_count": null,
      "outputs": [
        {
          "output_type": "stream",
          "name": "stdout",
          "text": [
            "[  1   2   3   4 200]\n",
            "[200   4   3   2   1]\n",
            "[1 2 3 4 5]\n",
            "[200   2   3   4   5]\n"
          ]
        }
      ]
    },
    {
      "cell_type": "code",
      "source": [
        "#Aggregate Functions\n",
        "arr = np.arange(1,6)\n",
        "print(np.sum(arr))\n",
        "\n",
        "print(np.mean(arr))\n",
        "print(np.prod(arr))\n",
        "print(np.max(arr),np.min(arr)) #Gives min/max value\n",
        "print(np.argmax(arr),np.argmin(arr)) #Gives index of min/max value"
      ],
      "metadata": {
        "colab": {
          "base_uri": "https://localhost:8080/"
        },
        "id": "FRkDEEV1jRpT",
        "outputId": "55fb774f-7692-4eae-858c-57c19ca9a27f"
      },
      "execution_count": null,
      "outputs": [
        {
          "output_type": "stream",
          "name": "stdout",
          "text": [
            "15\n",
            "3.0\n",
            "120\n",
            "5 1\n",
            "4 0\n"
          ]
        }
      ]
    },
    {
      "cell_type": "code",
      "source": [],
      "metadata": {
        "id": "TTUTNwWimNEd"
      },
      "execution_count": null,
      "outputs": []
    }
  ]
}