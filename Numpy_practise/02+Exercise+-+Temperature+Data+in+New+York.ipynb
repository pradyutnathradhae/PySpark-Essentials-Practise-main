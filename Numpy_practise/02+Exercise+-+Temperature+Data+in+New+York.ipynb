{
 "cells": [
  {
   "cell_type": "markdown",
   "metadata": {},
   "source": [
    "# 02 Exercise - Temperature Data in New York"
   ]
  },
  {
   "cell_type": "markdown",
   "metadata": {},
   "source": [
    "In the time period 1981 - 2010, temperature data was recorded at Albany International Airport in New York. Below, you are given the record low temperatures (in Fahrenheit) for each month during this time period. You will apply what you have learned to draw conclusions about this small dataset. "
   ]
  },
  {
   "cell_type": "code",
   "execution_count": 1,
   "metadata": {},
   "outputs": [],
   "source": [
    "# DON'T MODIFY THIS CELL, ONLY RUN IT.\n",
    "record_low_list = [-28, -22, -21, 9, 25, 35, 40, 34, 24, 16, -11, -22]"
   ]
  },
  {
   "cell_type": "markdown",
   "metadata": {},
   "source": [
    "The number 25 at index 4 in the list <b>record_low_list</b> indicates that the record low temperature in the fifth month (May) in the time period 1981 - 2010 was 25 degrees Fahrenheit (Brrr!). "
   ]
  },
  {
   "cell_type": "markdown",
   "metadata": {},
   "source": [
    "## Exercise 1:  Importing NumPy"
   ]
  },
  {
   "cell_type": "markdown",
   "metadata": {},
   "source": [
    "Import NumPy with the alias <b>np</b> so that we can start working with the data:"
   ]
  },
  {
   "cell_type": "code",
   "execution_count": 2,
   "metadata": {},
   "outputs": [],
   "source": [
    "# Import NumPy\n",
    "import numpy as np"
   ]
  },
  {
   "cell_type": "markdown",
   "metadata": {},
   "source": [
    "## Exercise 2: Convert List to a NumPy Array"
   ]
  },
  {
   "cell_type": "markdown",
   "metadata": {},
   "source": [
    "Convert the list called <b>record_low_list</b> into a NumPy array called <b>record_low_array</b>:"
   ]
  },
  {
   "cell_type": "code",
   "execution_count": 3,
   "metadata": {},
   "outputs": [],
   "source": [
    "# Convert the list into a NumPy array\n",
    "arr = np.array(record_low_list)"
   ]
  },
  {
   "cell_type": "markdown",
   "metadata": {},
   "source": [
    "## Exercise 3: Working with Celsius"
   ]
  },
  {
   "cell_type": "markdown",
   "metadata": {},
   "source": [
    "We would like to convert the data into Celsius (°C) instead of Fahrenheit (°F). The conversion formula is $$C = \\frac{5}{9}(F - 32),$$\n",
    "where $C$ denotes  degrees in Celsius and $F$ denotes degrees in Fahrenheit. \n",
    "Convert the <b>record_low_array</b> into a new array that measures degrees in Celsius. Call the new array for <b>record_low_celsius</b>:"
   ]
  },
  {
   "cell_type": "code",
   "execution_count": 4,
   "metadata": {},
   "outputs": [],
   "source": [
    "# Convert the data to Celsius (°C)\n",
    "cel_temp_arr = (arr-32)*5 /9"
   ]
  },
  {
   "cell_type": "markdown",
   "metadata": {},
   "source": [
    "## Exercise 4: Extract Values"
   ]
  },
  {
   "cell_type": "markdown",
   "metadata": {},
   "source": [
    "It is important to be able to access information. Print out the record low degrees in Celsius in May and in September. You should now be working with the array <b>record_low_celsius</b>:"
   ]
  },
  {
   "cell_type": "code",
   "execution_count": 5,
   "metadata": {},
   "outputs": [
    {
     "name": "stdout",
     "output_type": "stream",
     "text": [
      "-3.888888888888889 -4.444444444444445\n"
     ]
    }
   ],
   "source": [
    "# Print out the record low degrees in Celsius in May and in September\n",
    "print(cel_temp_arr[4],cel_temp_arr[8])"
   ]
  },
  {
   "cell_type": "markdown",
   "metadata": {},
   "source": [
    "## Exercise 5: Extract Multiple Values"
   ]
  },
  {
   "cell_type": "markdown",
   "metadata": {},
   "source": [
    "We would like to save the three values corresponding to the spring months (March, April, and May) into a new array variable called <b>record_low_celsius_spring</b>. Do this by using slicing:\n",
    "\n",
    "<i>Tip:</i> Remember that Python (and hence NumPy) counts from zero when indexing. Hence the value for March will have index value two, not three. "
   ]
  },
  {
   "cell_type": "code",
   "execution_count": 6,
   "metadata": {},
   "outputs": [],
   "source": [
    "# Extract the values corresponding to the spring month.\n",
    "record_low_celsius_spring = cel_temp_arr[2:5]"
   ]
  },
  {
   "cell_type": "markdown",
   "metadata": {},
   "source": [
    "## Exercise 6: Sorting"
   ]
  },
  {
   "cell_type": "markdown",
   "metadata": {},
   "source": [
    "Sometimes it is nice to have the values sorted after size. Make a new variable called <b>sorted_celsius</b> that has the values in <b>record_low_celsius</b> in sorted order (starting with the lowest, and ending with the largest value)."
   ]
  },
  {
   "cell_type": "code",
   "execution_count": 7,
   "metadata": {},
   "outputs": [],
   "source": [
    "# Set up a new variable that is sorted \n",
    "new_arr = np.sort(cel_temp_arr,kind='quicksort')"
   ]
  },
  {
   "cell_type": "markdown",
   "metadata": {},
   "source": [
    "## Exercise 7: Finding Maximum and Minimum Values"
   ]
  },
  {
   "cell_type": "markdown",
   "metadata": {},
   "source": [
    "We often want to find maximum and minimum values in our data. Use the <b>max</b> and <b>min</b> methods to find the largest and smallest temperatures in <b>record_low_celsius</b>:"
   ]
  },
  {
   "cell_type": "code",
   "execution_count": 8,
   "metadata": {},
   "outputs": [],
   "source": [
    "# Find the largest temperature\n",
    "max_temp = np.max(cel_temp_arr)\n",
    "# Find the smallest temperature\n",
    "min_temp = np.min(cel_temp_arr)"
   ]
  },
  {
   "cell_type": "markdown",
   "metadata": {},
   "source": [
    "## Exercise 8: Which Months do They Correspond to?"
   ]
  },
  {
   "cell_type": "markdown",
   "metadata": {},
   "source": [
    "In the last exercise, you found that the largest and smallest temperature in <b>record_low_celsius</b>. But which months do they correspond to? Use the <b>argmax</b> and <b>argmin</b> methods to determine this:"
   ]
  },
  {
   "cell_type": "code",
   "execution_count": 9,
   "metadata": {},
   "outputs": [
    {
     "name": "stdout",
     "output_type": "stream",
     "text": [
      "6 th Month is with Largest temp\n",
      "0 th Month is with Smallest temp\n"
     ]
    }
   ],
   "source": [
    "# Find the month with the largest temperature\n",
    "print(np.argmax(cel_temp_arr),\"th Month is with Largest temp\")\n",
    "# Find the month with the smallest temperature\n",
    "print(np.argmin(cel_temp_arr),\"th Month is with Smallest temp\")"
   ]
  },
  {
   "cell_type": "markdown",
   "metadata": {},
   "source": [
    "## Exercise 9: Calculating Means"
   ]
  },
  {
   "cell_type": "markdown",
   "metadata": {},
   "source": [
    "A value of importance is the mean (or average). Calculate the average lowest temperature in the whole year (in Celsius). You will need the <b>record_low_celsius</b> array and the <b>mean</b> method:"
   ]
  },
  {
   "cell_type": "code",
   "execution_count": 10,
   "metadata": {},
   "outputs": [
    {
     "name": "stdout",
     "output_type": "stream",
     "text": [
      "-14.120370370370372\n"
     ]
    }
   ],
   "source": [
    "# Calculate the average lowest temperature\n",
    "print(np.mean(cel_temp_arr))"
   ]
  },
  {
   "cell_type": "markdown",
   "metadata": {},
   "source": [
    "What is the average temperature in the spring?\n",
    "\n",
    "<i>Hint:</i> Use the variable <b>record_low_celsius_spring</b> that you have defined earlier."
   ]
  },
  {
   "cell_type": "code",
   "execution_count": 11,
   "metadata": {},
   "outputs": [
    {
     "name": "stdout",
     "output_type": "stream",
     "text": [
      "-15.370370370370368\n"
     ]
    }
   ],
   "source": [
    "# Calculate the average lowest temperature in the spring\n",
    "print(np.mean(record_low_celsius_spring))"
   ]
  },
  {
   "cell_type": "markdown",
   "metadata": {},
   "source": [
    "## Exercise 10: Challenge"
   ]
  },
  {
   "cell_type": "markdown",
   "metadata": {},
   "source": [
    "I want to find the month where the lowest temperature measured is closest to -10 degrees Celsius:"
   ]
  },
  {
   "cell_type": "code",
   "execution_count": 17,
   "metadata": {},
   "outputs": [
    {
     "name": "stdout",
     "output_type": "stream",
     "text": [
      "9 th Month is closest to -10 degrees Celsius\n"
     ]
    }
   ],
   "source": [
    "# Find value that is closest to -10\n",
    "print(np.argmin(np.abs(cel_temp_arr+10)),\"th Month is closest to -10 degrees Celsius\")"
   ]
  },
  {
   "cell_type": "markdown",
   "metadata": {},
   "source": [
    "<i>Hints</i> (try to think on the problem before looking at the hints):\n",
    "1) Add 10 to the array <b>record_low_celsius</b>. Now the problem has been changed to find the value in the new array that is closest to zero.\n",
    "\n",
    "2) We are only interested in the distance from zero, not the sign of the number (whether it is positive or negative). Use the <b>abs</b> method to only consider positive numbers.\n",
    "\n",
    "3) Use <b>argmin</b> to find the answer:"
   ]
  },
  {
   "cell_type": "markdown",
   "metadata": {},
   "source": [
    "## Moral of the Story"
   ]
  },
  {
   "cell_type": "markdown",
   "metadata": {},
   "source": [
    "We've seen how to work with simple temperature data in NumPy. In the beginning, it is tempting to shrug off our achievements away by thinking that we can just look at the data, and then answer the questions. But this is only possible if the data is small. \n",
    "\n",
    "Image that you were asked similar questions, but the temperatures was collection for each day over a period of 10 years. That is over 3500 values! The simple technique of \"looking though the data with yours eyes\" to find max/min/argmax/argmin/mean is not possible anymore (unless you want to spend your whole day scrolling). However, what we have learned in this section can easily handle these questions. \n",
    "\n",
    "In the next section, Stine will teach you plotting and how this also can help us to find structure in data!"
   ]
  }
 ],
 "metadata": {
  "kernelspec": {
   "display_name": "Python 3 (ipykernel)",
   "language": "python",
   "name": "python3"
  },
  "language_info": {
   "codemirror_mode": {
    "name": "ipython",
    "version": 3
   },
   "file_extension": ".py",
   "mimetype": "text/x-python",
   "name": "python",
   "nbconvert_exporter": "python",
   "pygments_lexer": "ipython3",
   "version": "3.8.10"
  }
 },
 "nbformat": 4,
 "nbformat_minor": 4
}
