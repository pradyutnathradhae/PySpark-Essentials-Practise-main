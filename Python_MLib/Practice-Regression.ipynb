{
 "cells": [
  {
   "cell_type": "code",
   "execution_count": 4,
   "id": "d3f4368f",
   "metadata": {},
   "outputs": [],
   "source": [
    "import findspark\n",
    "findspark.init('/home/pradyut/spark-3.2.3-bin-hadoop3.2-scala2.13')"
   ]
  },
  {
   "cell_type": "code",
   "execution_count": 5,
   "id": "03304efa",
   "metadata": {},
   "outputs": [],
   "source": [
    "from pyspark.sql import SparkSession\n",
    "spark = SparkSession.builder.appName(\"Regression-Practise\").getOrCreate()"
   ]
  },
  {
   "cell_type": "code",
   "execution_count": 6,
   "id": "031c2c3c",
   "metadata": {},
   "outputs": [
    {
     "name": "stderr",
     "output_type": "stream",
     "text": [
      "                                                                                \r"
     ]
    }
   ],
   "source": [
    "df = spark.read.csv(\"/home/pradyut/Github_repos/PySpark-Essentials-Practise-main/Python_MLib/Ecommerce_Customers.csv\",header=True,inferSchema=True)"
   ]
  },
  {
   "attachments": {},
   "cell_type": "markdown",
   "id": "786d5370",
   "metadata": {},
   "source": [
    "# Linear Regression"
   ]
  },
  {
   "cell_type": "code",
   "execution_count": 7,
   "id": "19be82f2",
   "metadata": {},
   "outputs": [],
   "source": [
    "from pyspark.ml.regression import LinearRegression"
   ]
  },
  {
   "cell_type": "code",
   "execution_count": 8,
   "id": "0a445035",
   "metadata": {},
   "outputs": [
    {
     "name": "stderr",
     "output_type": "stream",
     "text": [
      "23/02/10 09:28:44 WARN LibSVMFileFormat: 'numFeatures' option not specified, determining the number of features by going though the input. If you know the number in advance, please specify it via 'numFeatures' option to avoid the extra scan.\n",
      "                                                                                \r"
     ]
    }
   ],
   "source": [
    "training = spark.read.format(\"libsvm\").load(\"sample_linear_regression_data.txt\")"
   ]
  },
  {
   "cell_type": "code",
   "execution_count": 9,
   "id": "e95db5f3",
   "metadata": {},
   "outputs": [
    {
     "name": "stderr",
     "output_type": "stream",
     "text": [
      "                                                                                \r"
     ]
    },
    {
     "name": "stdout",
     "output_type": "stream",
     "text": [
      "+-------------------+--------------------+\n",
      "|              label|            features|\n",
      "+-------------------+--------------------+\n",
      "| -9.490009878824548|(10,[0,1,2,3,4,5,...|\n",
      "| 0.2577820163584905|(10,[0,1,2,3,4,5,...|\n",
      "| -4.438869807456516|(10,[0,1,2,3,4,5,...|\n",
      "|-19.782762789614537|(10,[0,1,2,3,4,5,...|\n",
      "| -7.966593841555266|(10,[0,1,2,3,4,5,...|\n",
      "| -7.896274316726144|(10,[0,1,2,3,4,5,...|\n",
      "| -8.464803554195287|(10,[0,1,2,3,4,5,...|\n",
      "| 2.1214592666251364|(10,[0,1,2,3,4,5,...|\n",
      "| 1.0720117616524107|(10,[0,1,2,3,4,5,...|\n",
      "|-13.772441561702871|(10,[0,1,2,3,4,5,...|\n",
      "| -5.082010756207233|(10,[0,1,2,3,4,5,...|\n",
      "|  7.887786536531237|(10,[0,1,2,3,4,5,...|\n",
      "| 14.323146365332388|(10,[0,1,2,3,4,5,...|\n",
      "|-20.057482615789212|(10,[0,1,2,3,4,5,...|\n",
      "|-0.8995693247765151|(10,[0,1,2,3,4,5,...|\n",
      "| -19.16829262296376|(10,[0,1,2,3,4,5,...|\n",
      "|  5.601801561245534|(10,[0,1,2,3,4,5,...|\n",
      "|-3.2256352187273354|(10,[0,1,2,3,4,5,...|\n",
      "| 1.5299675726687754|(10,[0,1,2,3,4,5,...|\n",
      "| -0.250102447941961|(10,[0,1,2,3,4,5,...|\n",
      "+-------------------+--------------------+\n",
      "only showing top 20 rows\n",
      "\n"
     ]
    }
   ],
   "source": [
    "training.show()"
   ]
  },
  {
   "cell_type": "code",
   "execution_count": 10,
   "id": "81dbd1e9",
   "metadata": {},
   "outputs": [
    {
     "name": "stderr",
     "output_type": "stream",
     "text": [
      "23/02/10 09:31:18 WARN Instrumentation: [358fbbf6] regParam is zero, which might cause numerical instability and overfitting.\n",
      "                                                                                \r"
     ]
    }
   ],
   "source": [
    "lr = LinearRegression(featuresCol='features',labelCol='label',predictionCol='prediction')\n",
    "lrmodel = lr.fit(training)"
   ]
  },
  {
   "cell_type": "code",
   "execution_count": 11,
   "id": "6a1ec103",
   "metadata": {},
   "outputs": [
    {
     "data": {
      "text/plain": [
       "DenseVector([0.0073, 0.8314, -0.8095, 2.4412, 0.5192, 1.1535, -0.2989, -0.5129, -0.6197, 0.6956])"
      ]
     },
     "execution_count": 11,
     "metadata": {},
     "output_type": "execute_result"
    }
   ],
   "source": [
    "lrmodel.coefficients"
   ]
  },
  {
   "cell_type": "code",
   "execution_count": 12,
   "id": "74bc58ab",
   "metadata": {},
   "outputs": [
    {
     "data": {
      "text/plain": [
       "0.14228558260358093"
      ]
     },
     "execution_count": 12,
     "metadata": {},
     "output_type": "execute_result"
    }
   ],
   "source": [
    "lrmodel.intercept"
   ]
  },
  {
   "cell_type": "code",
   "execution_count": 13,
   "id": "3e4a2ce2",
   "metadata": {},
   "outputs": [
    {
     "name": "stdout",
     "output_type": "stream",
     "text": [
      "10.16309157133015\n"
     ]
    }
   ],
   "source": [
    "training_summary = lrmodel.summary\n",
    "print(training_summary.rootMeanSquaredError)"
   ]
  },
  {
   "attachments": {},
   "cell_type": "markdown",
   "id": "5e37bd69",
   "metadata": {},
   "source": [
    "# Splitting Data and Evaluating based on test data"
   ]
  },
  {
   "cell_type": "code",
   "execution_count": 16,
   "id": "846575a6",
   "metadata": {},
   "outputs": [
    {
     "name": "stderr",
     "output_type": "stream",
     "text": [
      "23/02/10 09:38:47 WARN LibSVMFileFormat: 'numFeatures' option not specified, determining the number of features by going though the input. If you know the number in advance, please specify it via 'numFeatures' option to avoid the extra scan.\n"
     ]
    }
   ],
   "source": [
    "all_data = spark.read.format(\"libsvm\").load(\"sample_linear_regression_data.txt\")\n"
   ]
  },
  {
   "cell_type": "code",
   "execution_count": 17,
   "id": "39375033",
   "metadata": {},
   "outputs": [],
   "source": [
    "train_data,test_data = all_data.randomSplit([0.7,0.3])"
   ]
  },
  {
   "cell_type": "code",
   "execution_count": 18,
   "id": "0ffd077d",
   "metadata": {},
   "outputs": [
    {
     "name": "stderr",
     "output_type": "stream",
     "text": [
      "                                                                                \r"
     ]
    },
    {
     "data": {
      "text/plain": [
       "374"
      ]
     },
     "execution_count": 18,
     "metadata": {},
     "output_type": "execute_result"
    }
   ],
   "source": [
    "train_data.count()"
   ]
  },
  {
   "cell_type": "code",
   "execution_count": 19,
   "id": "cf429254",
   "metadata": {},
   "outputs": [
    {
     "data": {
      "text/plain": [
       "127"
      ]
     },
     "execution_count": 19,
     "metadata": {},
     "output_type": "execute_result"
    }
   ],
   "source": [
    "test_data.count()"
   ]
  },
  {
   "cell_type": "code",
   "execution_count": 20,
   "id": "74c07407",
   "metadata": {},
   "outputs": [
    {
     "name": "stderr",
     "output_type": "stream",
     "text": [
      "23/02/10 09:40:15 WARN Instrumentation: [80c35f20] regParam is zero, which might cause numerical instability and overfitting.\n"
     ]
    }
   ],
   "source": [
    "correct_model = lr.fit(train_data)"
   ]
  },
  {
   "cell_type": "code",
   "execution_count": 27,
   "id": "01e6305d",
   "metadata": {},
   "outputs": [],
   "source": [
    "correct_model_summary = correct_model.evaluate(test_data)"
   ]
  },
  {
   "cell_type": "code",
   "execution_count": 28,
   "id": "132881a7",
   "metadata": {},
   "outputs": [
    {
     "name": "stdout",
     "output_type": "stream",
     "text": [
      "<pyspark.ml.regression.LinearRegressionSummary object at 0x7f86dd241730>\n"
     ]
    }
   ],
   "source": [
    "print(correct_model_summary)"
   ]
  },
  {
   "cell_type": "code",
   "execution_count": 29,
   "id": "c2dd35cf",
   "metadata": {},
   "outputs": [
    {
     "data": {
      "text/plain": [
       "114.72398563552126"
      ]
     },
     "execution_count": 29,
     "metadata": {},
     "output_type": "execute_result"
    }
   ],
   "source": [
    "correct_model_summary.meanSquaredError"
   ]
  },
  {
   "cell_type": "code",
   "execution_count": 30,
   "id": "c87d4642",
   "metadata": {},
   "outputs": [
    {
     "data": {
      "text/plain": [
       "[-23.194049550180548, 23.236905493283835]"
      ]
     },
     "execution_count": 30,
     "metadata": {},
     "output_type": "execute_result"
    }
   ],
   "source": [
    "correct_model_summary.devianceResiduals"
   ]
  },
  {
   "cell_type": "code",
   "execution_count": 32,
   "id": "eeba5cfd",
   "metadata": {},
   "outputs": [
    {
     "name": "stderr",
     "output_type": "stream",
     "text": [
      "/home/pradyut/spark-3.2.3-bin-hadoop3.2-scala2.13/python/pyspark/sql/context.py:125: FutureWarning: Deprecated in 3.0.0. Use SparkSession.builder.getOrCreate() instead.\n",
      "  warnings.warn(\n"
     ]
    },
    {
     "name": "stdout",
     "output_type": "stream",
     "text": [
      "+-------------------+\n",
      "|          residuals|\n",
      "+-------------------+\n",
      "| -19.27648804366447|\n",
      "|-23.194049550180548|\n",
      "|-19.700475003768638|\n",
      "|-20.174103366907893|\n",
      "|-19.486964299132243|\n",
      "| -17.10764803802166|\n",
      "|-16.838438339936115|\n",
      "| -17.59797385451386|\n",
      "|-16.500522044579938|\n",
      "|-15.677949528598017|\n",
      "|-15.019586090460805|\n",
      "|-18.578355263137404|\n",
      "| -14.29239302028616|\n",
      "|-12.242460675603207|\n",
      "|-14.593059027947369|\n",
      "| -14.31059618260735|\n",
      "|-10.113773708881233|\n",
      "|-12.837533341384828|\n",
      "|-11.194551463806027|\n",
      "|-12.997494287815544|\n",
      "+-------------------+\n",
      "only showing top 20 rows\n",
      "\n"
     ]
    }
   ],
   "source": [
    "correct_model_summary.residuals.show()"
   ]
  },
  {
   "attachments": {},
   "cell_type": "markdown",
   "id": "8c1898c5",
   "metadata": {},
   "source": [
    "# Unlabelled Data"
   ]
  },
  {
   "cell_type": "code",
   "execution_count": 34,
   "id": "3d960b2f",
   "metadata": {},
   "outputs": [],
   "source": [
    "unlabelled = all_data.select(\"features\")"
   ]
  },
  {
   "cell_type": "code",
   "execution_count": 36,
   "id": "4e56d477",
   "metadata": {},
   "outputs": [],
   "source": [
    "unlabelled = unlabelled.limit(50)"
   ]
  },
  {
   "cell_type": "code",
   "execution_count": 37,
   "id": "ebc65ee2",
   "metadata": {},
   "outputs": [
    {
     "data": {
      "text/plain": [
       "50"
      ]
     },
     "execution_count": 37,
     "metadata": {},
     "output_type": "execute_result"
    }
   ],
   "source": [
    "unlabelled.count()"
   ]
  },
  {
   "cell_type": "code",
   "execution_count": 40,
   "id": "8b2a399b",
   "metadata": {},
   "outputs": [
    {
     "name": "stdout",
     "output_type": "stream",
     "text": [
      "+--------------------+\n",
      "|            features|\n",
      "+--------------------+\n",
      "|(10,[0,1,2,3,4,5,...|\n",
      "|(10,[0,1,2,3,4,5,...|\n",
      "|(10,[0,1,2,3,4,5,...|\n",
      "|(10,[0,1,2,3,4,5,...|\n",
      "|(10,[0,1,2,3,4,5,...|\n",
      "|(10,[0,1,2,3,4,5,...|\n",
      "|(10,[0,1,2,3,4,5,...|\n",
      "|(10,[0,1,2,3,4,5,...|\n",
      "|(10,[0,1,2,3,4,5,...|\n",
      "|(10,[0,1,2,3,4,5,...|\n",
      "|(10,[0,1,2,3,4,5,...|\n",
      "|(10,[0,1,2,3,4,5,...|\n",
      "|(10,[0,1,2,3,4,5,...|\n",
      "|(10,[0,1,2,3,4,5,...|\n",
      "|(10,[0,1,2,3,4,5,...|\n",
      "|(10,[0,1,2,3,4,5,...|\n",
      "|(10,[0,1,2,3,4,5,...|\n",
      "|(10,[0,1,2,3,4,5,...|\n",
      "|(10,[0,1,2,3,4,5,...|\n",
      "|(10,[0,1,2,3,4,5,...|\n",
      "+--------------------+\n",
      "only showing top 20 rows\n",
      "\n"
     ]
    }
   ],
   "source": [
    "unlabelled.show()"
   ]
  },
  {
   "cell_type": "code",
   "execution_count": 38,
   "id": "6918db79",
   "metadata": {},
   "outputs": [],
   "source": [
    "predictions = correct_model.transform(unlabelled)"
   ]
  },
  {
   "cell_type": "code",
   "execution_count": 39,
   "id": "2b496f0f",
   "metadata": {},
   "outputs": [
    {
     "name": "stdout",
     "output_type": "stream",
     "text": [
      "+--------------------+--------------------+\n",
      "|            features|          prediction|\n",
      "+--------------------+--------------------+\n",
      "|(10,[0,1,2,3,4,5,...|   2.933660885400937|\n",
      "|(10,[0,1,2,3,4,5,...|  0.8058122062089953|\n",
      "|(10,[0,1,2,3,4,5,...|  0.7723330603662611|\n",
      "|(10,[0,1,2,3,4,5,...|  0.5956519085939863|\n",
      "|(10,[0,1,2,3,4,5,...|  1.3021777849692093|\n",
      "|(10,[0,1,2,3,4,5,...| -2.9636678933420666|\n",
      "|(10,[0,1,2,3,4,5,...|   1.338977602235281|\n",
      "|(10,[0,1,2,3,4,5,...| 0.28983085751365584|\n",
      "|(10,[0,1,2,3,4,5,...| -3.3520096625929097|\n",
      "|(10,[0,1,2,3,4,5,...|   4.574795592359297|\n",
      "|(10,[0,1,2,3,4,5,...|-0.06047229509786216|\n",
      "|(10,[0,1,2,3,4,5,...|  2.0205506426538213|\n",
      "|(10,[0,1,2,3,4,5,...|  3.2080102827949237|\n",
      "|(10,[0,1,2,3,4,5,...| -0.3570076120205728|\n",
      "|(10,[0,1,2,3,4,5,...|  0.4650521835382812|\n",
      "|(10,[0,1,2,3,4,5,...| -2.6730742155480818|\n",
      "|(10,[0,1,2,3,4,5,...|  -2.713856735959611|\n",
      "|(10,[0,1,2,3,4,5,...| -2.3723916123336215|\n",
      "|(10,[0,1,2,3,4,5,...|  3.2146760967124504|\n",
      "|(10,[0,1,2,3,4,5,...|  0.7895686697012742|\n",
      "+--------------------+--------------------+\n",
      "only showing top 20 rows\n",
      "\n"
     ]
    }
   ],
   "source": [
    "predictions.show()"
   ]
  },
  {
   "cell_type": "code",
   "execution_count": null,
   "id": "96dfeaa3",
   "metadata": {},
   "outputs": [],
   "source": []
  }
 ],
 "metadata": {
  "kernelspec": {
   "display_name": "Python 3",
   "language": "python",
   "name": "python3"
  },
  "language_info": {
   "codemirror_mode": {
    "name": "ipython",
    "version": 3
   },
   "file_extension": ".py",
   "mimetype": "text/x-python",
   "name": "python",
   "nbconvert_exporter": "python",
   "pygments_lexer": "ipython3",
   "version": "3.8.10"
  },
  "vscode": {
   "interpreter": {
    "hash": "916dbcbb3f70747c44a77c7bcd40155683ae19c65e1c03b4aa3499c5328201f1"
   }
  }
 },
 "nbformat": 4,
 "nbformat_minor": 5
}
