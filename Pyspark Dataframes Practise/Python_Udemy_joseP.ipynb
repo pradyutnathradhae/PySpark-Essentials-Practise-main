{
 "cells": [
  {
   "cell_type": "code",
   "execution_count": 2,
   "id": "ec6dff37",
   "metadata": {},
   "outputs": [],
   "source": [
    "import findspark"
   ]
  },
  {
   "cell_type": "code",
   "execution_count": 4,
   "id": "eebb22be",
   "metadata": {},
   "outputs": [],
   "source": [
    "findspark.init('/home/pradyut/spark-3.2.3-bin-hadoop3.2-scala2.13')"
   ]
  },
  {
   "cell_type": "code",
   "execution_count": 5,
   "id": "c1b65758",
   "metadata": {},
   "outputs": [],
   "source": [
    "import pyspark\n"
   ]
  },
  {
   "cell_type": "code",
   "execution_count": 6,
   "id": "244d7baf",
   "metadata": {},
   "outputs": [
    {
     "name": "stdout",
     "output_type": "stream",
     "text": [
      "f: 10, l = 20\n"
     ]
    }
   ],
   "source": [
    "print(\"f: {}, l = {}\".format(10,20))"
   ]
  },
  {
   "cell_type": "code",
   "execution_count": 9,
   "id": "b10df3c1",
   "metadata": {},
   "outputs": [],
   "source": [
    "myl = ['a',2,9.0]"
   ]
  },
  {
   "cell_type": "code",
   "execution_count": 10,
   "id": "fe8de286",
   "metadata": {},
   "outputs": [
    {
     "data": {
      "text/plain": [
       "'a'"
      ]
     },
     "execution_count": 10,
     "metadata": {},
     "output_type": "execute_result"
    }
   ],
   "source": [
    "myl[0]"
   ]
  },
  {
   "cell_type": "code",
   "execution_count": 11,
   "id": "a84b7c45",
   "metadata": {},
   "outputs": [
    {
     "data": {
      "text/plain": [
       "2"
      ]
     },
     "execution_count": 11,
     "metadata": {},
     "output_type": "execute_result"
    }
   ],
   "source": [
    "myl[-2]"
   ]
  },
  {
   "cell_type": "code",
   "execution_count": 12,
   "id": "0c64d834",
   "metadata": {},
   "outputs": [
    {
     "data": {
      "text/plain": [
       "['b', 2, 9.0]"
      ]
     },
     "execution_count": 12,
     "metadata": {},
     "output_type": "execute_result"
    }
   ],
   "source": [
    "myl[0]='b'\n",
    "myl"
   ]
  },
  {
   "cell_type": "code",
   "execution_count": 15,
   "id": "1a4c674d",
   "metadata": {},
   "outputs": [
    {
     "data": {
      "text/plain": [
       "['b', 2, 9.0, '452', ['5', '8'], '452', ['5', '8']]"
      ]
     },
     "execution_count": 15,
     "metadata": {},
     "output_type": "execute_result"
    }
   ],
   "source": [
    "myl.append(\"452\")\n",
    "myl.append([\"5\",\"8\"])\n",
    "myl"
   ]
  },
  {
   "cell_type": "code",
   "execution_count": 16,
   "id": "865e9e4e",
   "metadata": {},
   "outputs": [
    {
     "name": "stdout",
     "output_type": "stream",
     "text": [
      "8\n"
     ]
    }
   ],
   "source": [
    "print(myl[4][1])"
   ]
  },
  {
   "cell_type": "code",
   "execution_count": 17,
   "id": "39c172f0",
   "metadata": {},
   "outputs": [],
   "source": [
    "d= {'1':'one','2':'two'}"
   ]
  },
  {
   "cell_type": "code",
   "execution_count": 18,
   "id": "ce97cd50",
   "metadata": {},
   "outputs": [
    {
     "data": {
      "text/plain": [
       "'one'"
      ]
     },
     "execution_count": 18,
     "metadata": {},
     "output_type": "execute_result"
    }
   ],
   "source": [
    "d['1']"
   ]
  },
  {
   "cell_type": "code",
   "execution_count": 19,
   "id": "c9123715",
   "metadata": {},
   "outputs": [
    {
     "name": "stdout",
     "output_type": "stream",
     "text": [
      "<class 'tuple'>\n",
      "<class 'set'> {1, 2}\n"
     ]
    }
   ],
   "source": [
    "t = ('1',2,3) #Tuple\n",
    "print(type(t))\n",
    "s = {1,1,1,2,2}\n",
    "print(type(s),s)"
   ]
  },
  {
   "cell_type": "code",
   "execution_count": 20,
   "id": "b091b66a",
   "metadata": {},
   "outputs": [
    {
     "name": "stdout",
     "output_type": "stream",
     "text": [
      "Two\n"
     ]
    }
   ],
   "source": [
    "a = 2\n",
    "if a==1:\n",
    "    print('one')\n",
    "elif a ==2:\n",
    "    print('Two')\n",
    "else:\n",
    "    print('Else blck')"
   ]
  },
  {
   "cell_type": "code",
   "execution_count": 21,
   "id": "d0f5e50a",
   "metadata": {},
   "outputs": [
    {
     "name": "stdout",
     "output_type": "stream",
     "text": [
      "2\n",
      "4\n",
      "6\n",
      "8\n",
      "10\n",
      "12\n",
      "14\n"
     ]
    }
   ],
   "source": [
    "for i in range(2,15,2):\n",
    "    print(i)"
   ]
  },
  {
   "cell_type": "code",
   "execution_count": 22,
   "id": "82547374",
   "metadata": {},
   "outputs": [
    {
     "data": {
      "text/plain": [
       "[1, 4, 9, 16, 25]"
      ]
     },
     "execution_count": 22,
     "metadata": {},
     "output_type": "execute_result"
    }
   ],
   "source": [
    "x = [1,2,3,4,5]\n",
    "out = []\n",
    "for num in x:\n",
    "    out.append(num **2)\n",
    "out"
   ]
  },
  {
   "cell_type": "code",
   "execution_count": 23,
   "id": "f2ae673c",
   "metadata": {},
   "outputs": [
    {
     "data": {
      "text/plain": [
       "[1, 4, 9, 16, 25]"
      ]
     },
     "execution_count": 23,
     "metadata": {},
     "output_type": "execute_result"
    }
   ],
   "source": [
    "[num **2 for num in x]"
   ]
  },
  {
   "cell_type": "code",
   "execution_count": 27,
   "id": "7bb978fe",
   "metadata": {},
   "outputs": [
    {
     "name": "stdout",
     "output_type": "stream",
     "text": [
      "hello Prad\n",
      "hello anon\n"
     ]
    }
   ],
   "source": [
    "def my_func(name='anon'):\n",
    "    '''\n",
    "    Prints out name\n",
    "    '''\n",
    "    print('hello '+name)\n",
    "\n",
    "my_func('Prad')\n",
    "my_func()"
   ]
  },
  {
   "cell_type": "code",
   "execution_count": 28,
   "id": "6a41e923",
   "metadata": {},
   "outputs": [
    {
     "name": "stdout",
     "output_type": "stream",
     "text": [
      "4\n"
     ]
    }
   ],
   "source": [
    "def sqr(x):\n",
    "    return x **2\n",
    "\n",
    "print(sqr(2))"
   ]
  },
  {
   "cell_type": "code",
   "execution_count": 29,
   "id": "4d2da952",
   "metadata": {},
   "outputs": [
    {
     "data": {
      "text/plain": [
       "<function __main__.<lambda>(x)>"
      ]
     },
     "execution_count": 29,
     "metadata": {},
     "output_type": "execute_result"
    }
   ],
   "source": [
    "lambda x: x**2"
   ]
  },
  {
   "cell_type": "code",
   "execution_count": 30,
   "id": "48c355ab",
   "metadata": {},
   "outputs": [
    {
     "data": {
      "text/plain": [
       "False"
      ]
     },
     "execution_count": 30,
     "metadata": {},
     "output_type": "execute_result"
    }
   ],
   "source": [
    "x in [1,2,3]"
   ]
  },
  {
   "cell_type": "code",
   "execution_count": 31,
   "id": "1c5f17c2",
   "metadata": {},
   "outputs": [
    {
     "data": {
      "text/plain": [
       "True"
      ]
     },
     "execution_count": 31,
     "metadata": {},
     "output_type": "execute_result"
    }
   ],
   "source": [
    "1 in [1,2,3]"
   ]
  },
  {
   "cell_type": "code",
   "execution_count": null,
   "id": "a114bf7f",
   "metadata": {},
   "outputs": [],
   "source": []
  }
 ],
 "metadata": {
  "kernelspec": {
   "display_name": "Python 3 (ipykernel)",
   "language": "python",
   "name": "python3"
  },
  "language_info": {
   "codemirror_mode": {
    "name": "ipython",
    "version": 3
   },
   "file_extension": ".py",
   "mimetype": "text/x-python",
   "name": "python",
   "nbconvert_exporter": "python",
   "pygments_lexer": "ipython3",
   "version": "3.8.10"
  }
 },
 "nbformat": 4,
 "nbformat_minor": 5
}
